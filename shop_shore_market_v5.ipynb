{
 "cells": [
  {
   "cell_type": "markdown",
   "metadata": {
    "id": "XxFKfMvnllDf"
   },
   "source": [
    "# LISTE PRODUITS\n",
    "\n"
   ]
  },
  {
   "cell_type": "code",
   "execution_count": 14,
   "metadata": {},
   "outputs": [
    {
     "name": "stdout",
     "output_type": "stream",
     "text": [
      "Requirement already satisfied: mysqlclient in c:\\users\\mohamed rendjambe\\appdata\\local\\programs\\python\\python311\\lib\\site-packages (2.2.0)\n",
      "Note: you may need to restart the kernel to use updated packages.\n"
     ]
    }
   ],
   "source": [
    "# pip install mysqlclient\n",
    "# python.exe -m pip install mysql-connector-python"
   ]
  },
  {
   "cell_type": "code",
   "execution_count": 2,
   "metadata": {
    "id": "VoYdc8scyxqF"
   },
   "outputs": [],
   "source": [
    "import pandas as pd\n",
    "import mysql.connector as sql"
   ]
  },
  {
   "cell_type": "code",
   "execution_count": 3,
   "metadata": {},
   "outputs": [],
   "source": [
    "#Connexion a la bse de donnéé\n",
    "# Paramètres de connexion à la base de données MySQL\n",
    "host = \"localhost\"  # L'adresse de votre serveur MySQL a changer en input\n",
    "user = \"dama\"  # Votre nom d'utilisateur MySQL\n",
    "password = \"dama02\"  # Votre mot de passe MySQL\n",
    "database = \"projet_boutique\"  # Le nom de votre base de données MySQL\n",
    "\n",
    "# Établir une connexion\n",
    "conn = sql.connect(\n",
    "    host=host,\n",
    "    user=user,\n",
    "    password=password,\n",
    "    database=database\n",
    ")\n",
    "\n",
    "\n",
    "\n"
   ]
  },
  {
   "cell_type": "code",
   "execution_count": 4,
   "metadata": {},
   "outputs": [
    {
     "name": "stdout",
     "output_type": "stream",
     "text": [
      "                       Type          Marque  prix  stock\n",
      "Code_p                                                  \n",
      "1                   Chemise       Hugo Boss    60    -20\n",
      "2                     Jeans    Levi Strauss    70     10\n",
      "3                   T-shirt            Nike    30    120\n",
      "4                   Costume    Calvin Klein   200     50\n",
      "5                      Polo         Lacoste    50     70\n",
      "6                     Veste  The North Face   120     60\n",
      "7                      Pull  Tommy Hilfiger    80     90\n",
      "8                    Shorts          Adidas    40    110\n",
      "9                    Blazer    Ralph Lauren   150     40\n",
      "10          Sweat à capuche            Puma    55     75\n",
      "11      Chaussures de sport     New Balance    90     65\n",
      "12          Blouson en cuir           Guess   180     30\n",
      "13                    Chino         Dockers    50     85\n",
      "14                  Manteau        Burberry   250     25\n",
      "15                Casquette    Under Armour    20    150\n",
      "            Type_compte     prenom        nom   mdp   solde\n",
      "num_compte                                                 \n",
      "1              Boutique  Chic_Mode  Boutique1  1234   55200\n",
      "2              Boutique      Class  Boutique2  5678   80000\n",
      "3              Boutique  Chez Diop  Boutique3  9012   65000\n",
      "4           Particulier     Amadou       Diop  1111  300000\n",
      "5           Particulier   Aïssatou        Sow  2222  450000\n",
      "6           Particulier      Kwame     Appiah  3333  600000\n",
      "7           Particulier  Fatoumata     Diallo  4444  350000\n",
      "8           Particulier    Ibrahim     Traoré  5555  700000\n",
      "9           Particulier      Amina      Toure  6666  550000\n",
      "10          Particulier  Abdoulaye      Barry  7777  400000\n",
      "11          Particulier   Kadiatou     Camara  8888  750000\n",
      "12          Particulier   Boubacar      Keïta  9999  480000\n",
      "13          Particulier      Aïcha     Konaté  1010  520000\n",
      "14          Particulier      Samba     Ndiaye  1212  680000\n",
      "15          Particulier   Aïssatou     Diallo  1313  604800\n"
     ]
    },
    {
     "name": "stderr",
     "output_type": "stream",
     "text": [
      "C:\\Users\\MOHAMED RENDJAMBE\\AppData\\Local\\Temp\\ipykernel_14140\\2873437708.py:7: UserWarning: pandas only supports SQLAlchemy connectable (engine/connection) or database string URI or sqlite3 DBAPI2 connection. Other DBAPI2 objects are not tested. Please consider using SQLAlchemy.\n",
      "  ARTICLES = pd.read_sql(query, conn) #.set_index('Code_p')\n",
      "C:\\Users\\MOHAMED RENDJAMBE\\AppData\\Local\\Temp\\ipykernel_14140\\2873437708.py:8: UserWarning: pandas only supports SQLAlchemy connectable (engine/connection) or database string URI or sqlite3 DBAPI2 connection. Other DBAPI2 objects are not tested. Please consider using SQLAlchemy.\n",
      "  CB = pd.read_sql(query1, conn)\n"
     ]
    }
   ],
   "source": [
    "query = \"SELECT * FROM articles\"  # Remplacez 'articles' par le nom de votre table\n",
    "query1= \"SELECT * FROM bank_group\"\n",
    "query2= \"SET AUTOCOMMIT=0\"\n",
    "#query3  = \"UPDATE bank_group SET solde = nouveau_solde_client WHERE num_compte = id_payeur\"  #update_solde_query\n",
    "    #cursor.execute(update_solde_query)\n",
    "\n",
    "ARTICLES = pd.read_sql(query, conn) #.set_index('Code_p')\n",
    "CB = pd.read_sql(query1, conn)\n",
    "\n",
    "ARTICLES=   ARTICLES.set_index('Code_p')\n",
    "CB=   CB.set_index('num_compte')\n",
    "#conn.close()\n",
    "print(ARTICLES)\n",
    "print(CB)\n",
    "#conn.close()\n",
    "\n",
    "#Validez la transaction\n",
    "conn.commit()"
   ]
  },
  {
   "cell_type": "code",
   "execution_count": 5,
   "metadata": {},
   "outputs": [
    {
     "name": "stdout",
     "output_type": "stream",
     "text": [
      "                       Type          Marque  prix  stock\n",
      "Code_p                                                  \n",
      "1                   Chemise       Hugo Boss    60    -20\n",
      "2                     Jeans    Levi Strauss    70     10\n",
      "3                   T-shirt            Nike    30    120\n",
      "4                   Costume    Calvin Klein   200     50\n",
      "5                      Polo         Lacoste    50     70\n",
      "6                     Veste  The North Face   120     60\n",
      "7                      Pull  Tommy Hilfiger    80     90\n",
      "8                    Shorts          Adidas    40    110\n",
      "9                    Blazer    Ralph Lauren   150     40\n",
      "10          Sweat à capuche            Puma    55     75\n",
      "11      Chaussures de sport     New Balance    90     65\n",
      "12          Blouson en cuir           Guess   180     30\n",
      "13                    Chino         Dockers    50     85\n",
      "14                  Manteau        Burberry   250     25\n",
      "15                Casquette    Under Armour    20    150\n"
     ]
    }
   ],
   "source": [
    "print(ARTICLES)\n",
    "#conn.close()"
   ]
  },
  {
   "cell_type": "markdown",
   "metadata": {
    "id": "O1dB_HtQqOzJ"
   },
   "source": [
    "# BOUTIQUES"
   ]
  },
  {
   "cell_type": "code",
   "execution_count": 6,
   "metadata": {
    "id": "i7UIcdLjm64v"
   },
   "outputs": [],
   "source": [
    "BOUTIQUE = ARTICLES"
   ]
  },
  {
   "cell_type": "code",
   "execution_count": 7,
   "metadata": {
    "colab": {
     "base_uri": "https://localhost:8080/"
    },
    "id": "tiGih9sjnf7W",
    "outputId": "f23fec53-dd79-4ec4-b4e0-a6363ebdde94"
   },
   "outputs": [
    {
     "name": "stdout",
     "output_type": "stream",
     "text": [
      "                       Type          Marque  prix  stock\n",
      "Code_p                                                  \n",
      "1                   Chemise       Hugo Boss    60    -20\n",
      "2                     Jeans    Levi Strauss    70     10\n",
      "3                   T-shirt            Nike    30    120\n",
      "4                   Costume    Calvin Klein   200     50\n",
      "5                      Polo         Lacoste    50     70\n",
      "6                     Veste  The North Face   120     60\n",
      "7                      Pull  Tommy Hilfiger    80     90\n",
      "8                    Shorts          Adidas    40    110\n",
      "9                    Blazer    Ralph Lauren   150     40\n",
      "10          Sweat à capuche            Puma    55     75\n",
      "11      Chaussures de sport     New Balance    90     65\n",
      "12          Blouson en cuir           Guess   180     30\n",
      "13                    Chino         Dockers    50     85\n",
      "14                  Manteau        Burberry   250     25\n",
      "15                Casquette    Under Armour    20    150\n"
     ]
    }
   ],
   "source": [
    "print(ARTICLES)"
   ]
  },
  {
   "cell_type": "markdown",
   "metadata": {
    "id": "YLgbNmQZuBrn"
   },
   "source": [
    "# LISTE ACHATS"
   ]
  },
  {
   "cell_type": "code",
   "execution_count": 9,
   "metadata": {},
   "outputs": [
    {
     "name": "stdout",
     "output_type": "stream",
     "text": [
      "                       Type          Marque  prix  stock\n",
      "Code_p                                                  \n",
      "1                   Chemise       Hugo Boss    60    -20\n",
      "2                     Jeans    Levi Strauss    70     10\n",
      "3                   T-shirt            Nike    30    120\n",
      "4                   Costume    Calvin Klein   200     50\n",
      "5                      Polo         Lacoste    50     70\n",
      "6                     Veste  The North Face   120     60\n",
      "7                      Pull  Tommy Hilfiger    80     90\n",
      "8                    Shorts          Adidas    40    110\n",
      "9                    Blazer    Ralph Lauren   150     40\n",
      "10          Sweat à capuche            Puma    55     75\n",
      "11      Chaussures de sport     New Balance    90     65\n",
      "12          Blouson en cuir           Guess   180     30\n",
      "13                    Chino         Dockers    50     85\n",
      "14                  Manteau        Burberry   250     25\n",
      "15                Casquette    Under Armour    20    150\n",
      "Contenu complet du panier :\n",
      "                       Type          Marque  prix  stock\n",
      "Code_p                                                  \n",
      "1                   Chemise       Hugo Boss    60    -20\n",
      "2                     Jeans    Levi Strauss    70      5\n",
      "3                   T-shirt            Nike    30    120\n",
      "4                   Costume    Calvin Klein   200     50\n",
      "5                      Polo         Lacoste    50     70\n",
      "6                     Veste  The North Face   120     60\n",
      "7                      Pull  Tommy Hilfiger    80     90\n",
      "8                    Shorts          Adidas    40    110\n",
      "9                    Blazer    Ralph Lauren   150     40\n",
      "10          Sweat à capuche            Puma    55     75\n",
      "11      Chaussures de sport     New Balance    90     65\n",
      "12          Blouson en cuir           Guess   180     30\n",
      "13                    Chino         Dockers    50     85\n",
      "14                  Manteau        Burberry   250     25\n",
      "15                Casquette    Under Armour    20    150\n",
      "                                                               2\n",
      "id_produit     Index(['Type', 'Marque', 'prix', 'stock'], dty...\n",
      "nom                                                 Levi Strauss\n",
      "prix_total                                                   350\n",
      "prix_unitaire                                                 70\n",
      "quantite                                                       5\n",
      "Le montant de votre facture est de 350 FCFA.\n"
     ]
    }
   ],
   "source": [
    "# Initialisation du panier et du total de la facture\n",
    "#Le bon\n",
    "panier = {}  # Utilisez un dictionnaire pour stocker le panier\n",
    "facture = 0\n",
    "\n",
    "# Boucle pour ajouter des produits au panier\n",
    "while True:\n",
    "    # Afficher la liste des produits disponibles (assurez-vous que ARTICLES est défini)\n",
    "    print(ARTICLES)\n",
    "\n",
    "    # Demander à l'utilisateur de choisir un produit\n",
    "    choix_produit = int(input(\"Saisir le numéro du produit pour l'ajouter à votre panier (1, 2, 3, etc.) ou 0 pour terminer : \"))\n",
    "\n",
    "    if choix_produit == 0:\n",
    "        break  # Sortir de la boucle si l'utilisateur choisit de terminer\n",
    "\n",
    "    # Vérifier si le choix de produit est valide\n",
    "    if choix_produit not in ARTICLES.index:\n",
    "        print(\"Choix de produit invalide.\")\n",
    "        continue\n",
    "\n",
    "    produit_selectionne = ARTICLES.loc[choix_produit]\n",
    "\n",
    "    # Demander à l'utilisateur la quantité souhaitée\n",
    "    choix_quantite = int(input(f\"Saisir la quantité souhaitée (stock disponible : {produit_selectionne['stock']} pièces) : \"))\n",
    "\n",
    "    # Vérifier si la quantité est inférieure ou égale au stock disponible\n",
    "    if choix_quantite > produit_selectionne['stock']:\n",
    "        print(\"Quantité choisie supérieure au stock disponible.\")\n",
    "        continue\n",
    "\n",
    "    # Calculer le coût du produit choisi\n",
    "    cout_produit = produit_selectionne['prix'] * choix_quantite\n",
    "\n",
    "    # Ajouter le produit au panier\n",
    "    panier[choix_produit] = {\n",
    "        'id_produit': produit_selectionne.index,\n",
    "        'nom': produit_selectionne['Marque'],\n",
    "        'prix_unitaire': produit_selectionne['prix'],\n",
    "        'quantite': choix_quantite,\n",
    "        'prix_total': (produit_selectionne['prix'] * choix_quantite)\n",
    "    }\n",
    "\n",
    "    # Mettre à jour le stock du produit choisi\n",
    "    ARTICLES.loc[choix_produit, 'stock'] -= choix_quantite\n",
    "\n",
    "    # Mettre à jour la facture totale\n",
    "    facture += cout_produit\n",
    "\n",
    "    # Afficher la liste complète du panier\n",
    "    print(\"Contenu complet du panier :\")\n",
    "    for produit_id, details_produit in panier.items():\n",
    "        id_produit= produit_selectionne.index\n",
    "        nom_produit = details_produit['nom']\n",
    "        prix_unitaire = details_produit['prix_unitaire']\n",
    "        quantite = details_produit['quantite']\n",
    "        cout_produit = prix_unitaire * quantite\n",
    "\n",
    "        #print(f\"Produit : {nom_produit}, Prix unitaire : {prix_unitaire} FCFA, Quantité : {quantite}, Coût total : {cout_produit} FCFA\")\n",
    "        #print(f\"{choix_quantite} {produit_selectionne['Marque']} ajouté(s) au panier pour un total de {cout_produit} FCFA.\")\n",
    "        #print(f\"Votre panier actuel est de {facture} FCFA.\")\n",
    "        #print(f\"Stock restant pour {produit_selectionne['Marque']} : {produit_selectionne['stock']} pièces.\")\n",
    "        #print(\"\\n\")\n",
    "\n",
    "# Afficher le montant total de la facture\n",
    "print(pd.DataFrame(panier))\n",
    "print(f\"Le montant de votre facture est de {facture} FCFA.\")\n"
   ]
  },
  {
   "cell_type": "markdown",
   "metadata": {
    "id": "s-TITwoXpwQR"
   },
   "source": [
    "# COMPTES CLIENTS BANK"
   ]
  },
  {
   "cell_type": "code",
   "execution_count": 10,
   "metadata": {},
   "outputs": [
    {
     "name": "stdout",
     "output_type": "stream",
     "text": [
      "            Type_compte     prenom        nom   mdp   solde\n",
      "num_compte                                                 \n",
      "1              Boutique  Chic_Mode  Boutique1  1234   55200\n",
      "2              Boutique      Class  Boutique2  5678   80000\n",
      "3              Boutique  Chez Diop  Boutique3  9012   65000\n",
      "4           Particulier     Amadou       Diop  1111  300000\n",
      "5           Particulier   Aïssatou        Sow  2222  450000\n",
      "6           Particulier      Kwame     Appiah  3333  600000\n",
      "7           Particulier  Fatoumata     Diallo  4444  350000\n",
      "8           Particulier    Ibrahim     Traoré  5555  700000\n",
      "9           Particulier      Amina      Toure  6666  550000\n",
      "10          Particulier  Abdoulaye      Barry  7777  400000\n",
      "11          Particulier   Kadiatou     Camara  8888  750000\n",
      "12          Particulier   Boubacar      Keïta  9999  480000\n",
      "13          Particulier      Aïcha     Konaté  1010  520000\n",
      "14          Particulier      Samba     Ndiaye  1212  680000\n",
      "15          Particulier   Aïssatou     Diallo  1313  604800\n"
     ]
    }
   ],
   "source": [
    "#query = \"SELECT * FROM BANK_GROUP\"  # Remplacez 'articles' par le nom de votre table\n",
    "#CB = pd.read_sql(query, conn) #.set_index('Code_p')\n",
    "\n",
    "#CB=df.set_index('num_compte')\n",
    "#conn.close()\n",
    "print(CB)"
   ]
  },
  {
   "cell_type": "markdown",
   "metadata": {
    "id": "89RvqQqZuQOv"
   },
   "source": [
    "# FACTURE"
   ]
  },
  {
   "cell_type": "code",
   "execution_count": 15,
   "metadata": {},
   "outputs": [
    {
     "name": "stdout",
     "output_type": "stream",
     "text": [
      "Les identifiants sont corrects.\n",
      "Vous avez payé votre facture qui s'élevait à : 350 FCFA\n",
      "Votre nouveau solde : 604450 FCFA\n",
      "Le nouveau solde boutique : 55550 FCFA\n",
      "350\n",
      "2\n"
     ]
    }
   ],
   "source": [
    "#Test avec panier multiple pour sql\n",
    "\n",
    "# Valider le paiement du client\n",
    "#okok\n",
    "paiement = 0\n",
    "max_tentatives_mdp = 3  # Définir le nombre maximum de tentatives pour le mot de passe\n",
    "choix_paiement = int(input(\"Souhaitez-vous régler votre facture de \" + str(facture) + \" FCFA ? Choisissez : oui = 1 / non = 0 : \"))\n",
    "\n",
    "while paiement < 1:\n",
    "    if choix_paiement == 1:\n",
    "        id_payeur = int(input(\"Veuillez renseigner votre identifiant payeur : \"))\n",
    "\n",
    "        # Vérifier si l'identifiant payeur est valide\n",
    "        while id_payeur not in CB.index:\n",
    "            print(\"Identifiant payeur invalide.\")\n",
    "            id_payeur = int(input(\"Veuillez renseigner votre identifiant payeur : \"))\n",
    "            print(CB.index)\n",
    "\n",
    "        mdp_correct = CB.loc[id_payeur, 'mdp']\n",
    "        tentatives = 0  # Compteur de tentatives\n",
    "\n",
    "        while tentatives < max_tentatives_mdp:\n",
    "            mdp = int(input(\"Veuillez renseigner votre mot de passe : \"))\n",
    "\n",
    "            # Vérifier si le mot de passe est correct\n",
    "            if mdp == mdp_correct:\n",
    "                id_boutique = int(input(\"Veuillez renseigner identifiant de la boutique : \"))\n",
    "\n",
    "                # Vérifier si l'identifiant de la boutique est valide\n",
    "                while id_boutique not in CB.index:\n",
    "                    id_boutique = \"\"\n",
    "                    \n",
    "                    id_boutique = input(\"Veuillez renseigner identifiant de la boutique : \")\n",
    "                    print(\"Identifiant boutique invalide.\")\n",
    "\n",
    "\n",
    "                if facture==0:\n",
    "                    print(\"Vous n'avez pas de facture\")\n",
    "                    print(\"Souhaitez vous effectuer un autre echat\")\n",
    "                else:\n",
    "                    print(\"Les identifiants sont corrects.\")\n",
    "                    #ancien_solde = CB.loc[id_payeur, 'solde']\n",
    "                    #nouveau_solde = ancien_solde - facture\n",
    "                    #CB.loc[id_payeur, 'solde'] = nouveau_solde\n",
    "                    \n",
    "                    ancien_solde_client = CB.loc[id_payeur, 'solde']\n",
    "                    if facture> ancien_solde_client:\n",
    "                        print(\"votre solde est insufisant\")\n",
    "                        print(\"merci de recharger votre compte\")\n",
    "                        facture=0\n",
    "                    else:\n",
    "                        nouveau_solde_client = ancien_solde_client - facture\n",
    "                        ancien_solde_boutique = CB.loc[id_boutique, 'solde']\n",
    "                        nouveau_solde_boutique = ancien_solde_boutique + facture\n",
    "                        print(\"Vous avez payé votre facture qui s'élevait à : \" + str(facture) + \" FCFA\")\n",
    "                        print(\"Votre nouveau solde : \" + str(nouveau_solde_client) + \" FCFA\")\n",
    "                        print(\"Le nouveau solde boutique : \" + str(nouveau_solde_boutique) + \" FCFA\")\n",
    "                #panier=0\n",
    "                #facture=0\n",
    "                paiement = 2\n",
    "                print(facture)\n",
    "                print(paiement)\n",
    "                break  # Sortir de la boucle de tentative si la transaction réussit\n",
    "            else:\n",
    "                print(\"Mot de passe incorrect.\")\n",
    "                tentatives += 1\n",
    "                if tentatives < max_tentatives_mdp:\n",
    "                    print(\"Il vous reste \" + str(max_tentatives_mdp - tentatives) + \" tentatives.\")\n",
    "\n",
    "        # Si le nombre maximum de tentatives est atteint, afficher un message et quitter\n",
    "        if tentatives == max_tentatives_mdp:\n",
    "            print(\"Nombre maximum de tentatives atteint. Veuillez contacter votre conseiller client.\")\n",
    "            break\n",
    "    elif choix_paiement == 0:\n",
    "        paiement = 2\n",
    "        print(\"Merci Cher client pour votre passage\" + \"\\n\" + \"À la prochaine !\")\n",
    "    else:\n",
    "        paiement = 0\n",
    "        print(\"Vous devez faire un choix valide entre 1 pour valider et 0 pour annuler\")"
   ]
  },
  {
   "cell_type": "code",
   "execution_count": 16,
   "metadata": {},
   "outputs": [
    {
     "name": "stdout",
     "output_type": "stream",
     "text": [
      "Opérations réussies. Transaction validée.\n"
     ]
    }
   ],
   "source": [
    "\n",
    "\n",
    "# Remplacez les informations de connexion par les vôtres\n",
    "#db_config = {\n",
    "#    \"host\": \"votre_hote_mysql\",\n",
    "#    \"user\": \"votre_utilisateur\",\n",
    "#    \"password\": \"votre_mot_de_passe\",\n",
    "#    \"database\": \"votre_base_de_donnees\"\n",
    "#}\n",
    "\n",
    "# Créez une connexion à la base de données MySQL\n",
    "#conn = mysql.connector.connect(**db_config)\n",
    "\n",
    "# Créez un curseur pour exécuter des requêtes SQL\n",
    "#cursor = conn.cursor()\n",
    "\n",
    "\n",
    "# Paramètres\n",
    "solde1 = nouveau_solde_client  # Remplacez par le numéro de la facture concernée\n",
    "solde_boutique = nouveau_solde_boutique    # Remplacez par le coût de l'achat\n",
    "id_boutique = id_boutique    # Remplacez par l'identifiant de la boutique\n",
    "id_client=id_payeur\n",
    "id_update=id_produit\n",
    "for id_produit in panier:\n",
    "    quantite_a_deduire =  choix_quantite\n",
    "#else:\n",
    "    #print(\"L'article choisi n'existe pas dans le panier.\")\n",
    "#for produit_id in panier:\n",
    "    #panier.get\n",
    "\n",
    "\n",
    "\n",
    "try:\n",
    "    # Créez un curseur pour exécuter des requêtes SQL\n",
    "    cursor = conn.cursor()\n",
    "    # Débutez une transaction\n",
    "    conn.start_transaction()\n",
    "\n",
    "    # update solde client\n",
    "    update_solde_client = \"UPDATE bank_group SET solde = %s WHERE num_compte = %s\"\n",
    "    value=(int(nouveau_solde_client), id_payeur)\n",
    "    cursor.execute(update_solde_client,value)\n",
    "    #update solde boutique\n",
    "    update_solde_boutique = \"UPDATE bank_group SET solde = %s WHERE num_compte = %s\"\n",
    "    value=(int(nouveau_solde_boutique), id_boutique)\n",
    "    cursor.execute(update_solde_boutique,value)\n",
    "    #conn.rollback()\n",
    "                    #conn.commit()\n",
    "\n",
    "                    #conn.start_transaction()\n",
    "     #update stock boutique\n",
    "    update_stock_boutique = \"UPDATE articles SET stock =stock - %s WHERE code_p = %s\"\n",
    "    value=(int(quantite_a_deduire), id_produit)\n",
    "    cursor.execute(update_stock_boutique,value)\n",
    "    #choix_produit\n",
    "    #choix_quantité\n",
    "\n",
    "    #query2= \"SELECT * FROM bank_group where num_compte= %s\"\n",
    "    #value2=(id_payeur)\n",
    "    #cursor.execute(query2,value2)\n",
    "    # Ajoutez le coût de la boutique\n",
    "    #update_boutique_query = \"UPDATE Boutiques SET Solde = Solde + %s WHERE IDBoutique = %s\"\n",
    "    #cursor.execute(update_boutique_query, (cout_achat, id_boutique))\n",
    "\n",
    "\n",
    "\n",
    "    #conn.start_transaction()\n",
    "    # Effectuez des mises à jour sur la table Articles\n",
    "    # Par exemple, vous pouvez effectuer une mise à jour comme ceci :\n",
    "    #update_query = \"insert operations_log  SET quantite = 10 WHERE code_produit = 1\"\n",
    "    #cursor.execute(update_query)\n",
    "\n",
    "    #conn.commit()\n",
    "    print(\"Opérations réussies. Transaction validée.\")\n",
    "    #print(\"votre nouveau solde est\", value)\n",
    "    #print(query2)\n",
    "    #panier=0\n",
    "    facture=0\n",
    "\n",
    "except Exception as e:\n",
    "    # En cas d'erreur, annulez la transaction\n",
    "    conn.rollback()\n",
    "    print(\"Erreur : Transaction annulée. Erreur :\", str(e))\n",
    "\n",
    "finally:\n",
    "    # Validez la transaction\n",
    "    conn.commit()\n",
    "    # Fermez le curseur et la connexion à la base de données\n",
    "    #cursor.close()\n",
    "    #conn.close()\n",
    " "
   ]
  },
  {
   "cell_type": "code",
   "execution_count": 17,
   "metadata": {},
   "outputs": [
    {
     "name": "stdout",
     "output_type": "stream",
     "text": [
      "                       Type          Marque  prix  stock\n",
      "Code_p                                                  \n",
      "1                   Chemise       Hugo Boss    60    -20\n",
      "2                     Jeans    Levi Strauss    70      5\n",
      "3                   T-shirt            Nike    30    120\n",
      "4                   Costume    Calvin Klein   200     50\n",
      "5                      Polo         Lacoste    50     70\n",
      "6                     Veste  The North Face   120     60\n",
      "7                      Pull  Tommy Hilfiger    80     90\n",
      "8                    Shorts          Adidas    40    110\n",
      "9                    Blazer    Ralph Lauren   150     40\n",
      "10          Sweat à capuche            Puma    55     75\n",
      "11      Chaussures de sport     New Balance    90     65\n",
      "12          Blouson en cuir           Guess   180     30\n",
      "13                    Chino         Dockers    50     85\n",
      "14                  Manteau        Burberry   250     25\n",
      "15                Casquette    Under Armour    20    150\n",
      "            Type_compte     prenom        nom   mdp   solde\n",
      "num_compte                                                 \n",
      "1              Boutique  Chic_Mode  Boutique1  1234   55550\n",
      "2              Boutique      Class  Boutique2  5678   80000\n",
      "3              Boutique  Chez Diop  Boutique3  9012   65000\n",
      "4           Particulier     Amadou       Diop  1111  300000\n",
      "5           Particulier   Aïssatou        Sow  2222  450000\n",
      "6           Particulier      Kwame     Appiah  3333  600000\n",
      "7           Particulier  Fatoumata     Diallo  4444  350000\n",
      "8           Particulier    Ibrahim     Traoré  5555  700000\n",
      "9           Particulier      Amina      Toure  6666  550000\n",
      "10          Particulier  Abdoulaye      Barry  7777  400000\n",
      "11          Particulier   Kadiatou     Camara  8888  750000\n",
      "12          Particulier   Boubacar      Keïta  9999  480000\n",
      "13          Particulier      Aïcha     Konaté  1010  520000\n",
      "14          Particulier      Samba     Ndiaye  1212  680000\n",
      "15          Particulier   Aïssatou     Diallo  1313  604450\n"
     ]
    },
    {
     "name": "stderr",
     "output_type": "stream",
     "text": [
      "C:\\Users\\MOHAMED RENDJAMBE\\AppData\\Local\\Temp\\ipykernel_14140\\2100953427.py:6: UserWarning: pandas only supports SQLAlchemy connectable (engine/connection) or database string URI or sqlite3 DBAPI2 connection. Other DBAPI2 objects are not tested. Please consider using SQLAlchemy.\n",
      "  ARTICLES = pd.read_sql(query, conn) #.set_index('Code_p')\n",
      "C:\\Users\\MOHAMED RENDJAMBE\\AppData\\Local\\Temp\\ipykernel_14140\\2100953427.py:7: UserWarning: pandas only supports SQLAlchemy connectable (engine/connection) or database string URI or sqlite3 DBAPI2 connection. Other DBAPI2 objects are not tested. Please consider using SQLAlchemy.\n",
      "  CB = pd.read_sql(query1, conn)\n"
     ]
    }
   ],
   "source": [
    "query = \"SELECT * FROM articles\"  # Remplacez 'articles' par le nom de votre table\n",
    "query1= \"SELECT * FROM bank_group\"\n",
    "#query3  = \"UPDATE bank_group SET solde = nouveau_solde_client WHERE num_compte = id_payeur\"  #update_solde_query\n",
    "    #cursor.execute(update_solde_query)\n",
    "\n",
    "ARTICLES = pd.read_sql(query, conn) #.set_index('Code_p')\n",
    "CB = pd.read_sql(query1, conn)\n",
    "\n",
    "ARTICLES=   ARTICLES.set_index('Code_p')\n",
    "CB=   CB.set_index('num_compte')\n",
    "#conn.close()\n",
    "print(ARTICLES)\n",
    "print(CB)\n",
    "cursor.close()\n",
    "conn.close()"
   ]
  },
  {
   "cell_type": "markdown",
   "metadata": {
    "id": "JKfyOT9MK1i1"
   },
   "source": [
    "# PAIEMENT FACTURE"
   ]
  }
 ],
 "metadata": {
  "colab": {
   "collapsed_sections": [
    "XxFKfMvnllDf",
    "O1dB_HtQqOzJ",
    "YLgbNmQZuBrn",
    "s-TITwoXpwQR",
    "89RvqQqZuQOv"
   ],
   "provenance": []
  },
  "kernelspec": {
   "display_name": "Python 3 (ipykernel)",
   "language": "python",
   "name": "python3"
  },
  "language_info": {
   "codemirror_mode": {
    "name": "ipython",
    "version": 3
   },
   "file_extension": ".py",
   "mimetype": "text/x-python",
   "name": "python",
   "nbconvert_exporter": "python",
   "pygments_lexer": "ipython3",
   "version": "3.11.2"
  }
 },
 "nbformat": 4,
 "nbformat_minor": 1
}
